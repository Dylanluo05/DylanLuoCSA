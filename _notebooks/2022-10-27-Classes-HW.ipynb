{
 "cells": [
  {
   "cell_type": "markdown",
   "metadata": {},
   "source": [
    "# Writing Classes HW Post\n",
    "> Writing Classes HW\n",
    "\n",
    "- toc: true\n",
    "- description: Writing classes HW post for AP CSA\n",
    "- categories: [jupyter]\n",
    "- title: Writing Classes HW Post\n",
    "- author: Dylan Luo\n",
    "- show_tags: true\n",
    "- comments: true"
   ]
  },
  {
   "cell_type": "markdown",
   "metadata": {},
   "source": [
    "2021 FRQ 1a"
   ]
  },
  {
   "cell_type": "code",
   "execution_count": 28,
   "metadata": {},
   "outputs": [
    {
     "name": "stdout",
     "output_type": "stream",
     "text": [
      "4\n"
     ]
    }
   ],
   "source": [
    "public class WordMatch {\n",
    "    private String secret;\n",
    "\n",
    "    // Constructor for WordMatch that initializes the secret variable\n",
    "    public WordMatch(String word) {\n",
    "        secret = word;\n",
    "    }\n",
    "\n",
    "    // Method for comparing guess with secret\n",
    "    public int scoreGuess(String guess) {\n",
    "        int score = 0;\n",
    "        int occurrences = 0;\n",
    "        int guessLength = guess.length();\n",
    "        // The for loop's condition changes with respect to the length of guess, and counts the number of occurrences of guess in secret\n",
    "        for (int i = 0; i <= secret.length() - guessLength; i++) {\n",
    "            String secretComponent = secret.substring(i, i + guessLength);\n",
    "            if (guess.equals(secretComponent)) {\n",
    "                occurrences++;\n",
    "            }\n",
    "        }\n",
    "        score = occurrences * (int) Math.pow(guessLength, 2);\n",
    "        return score;\n",
    "    }\n",
    "\n",
    "    // Running method for visualizing outputs\n",
    "    public static void main(String[] args) {\n",
    "        WordMatch myObj = new WordMatch(\"mississippi\");\n",
    "        System.out.println(myObj.scoreGuess(\"i\"));\n",
    "    }\n",
    "}\n",
    "\n",
    "WordMatch.main(null);"
   ]
  },
  {
   "cell_type": "markdown",
   "metadata": {},
   "source": [
    "2021 FRQ 3a"
   ]
  },
  {
   "cell_type": "code",
   "execution_count": 1,
   "metadata": {},
   "outputs": [
    {
     "name": "stdout",
     "output_type": "stream",
     "text": [
      "Dylan; 2023; true\n",
      "Ritvik; 2023; true\n",
      "Aryan; 2023; true\n"
     ]
    }
   ],
   "source": [
    "public class MemberInfo {\n",
    "    public String memberName;\n",
    "    public int memberGradYear;\n",
    "    public boolean memberGoodStanding;\n",
    "\n",
    "    // Constructor that initializes detail variables for a member\n",
    "    public MemberInfo(String name, int gradYear, boolean hasGoodStanding) {\n",
    "        memberName = name;\n",
    "        memberGradYear = gradYear;\n",
    "        memberGoodStanding = hasGoodStanding;    \n",
    "    }\n",
    "\n",
    "    // Returns graduation year of a member\n",
    "    public int getGradYear() {\n",
    "        return memberGradYear;\n",
    "    }\n",
    "\n",
    "    // Returns the good standing status of a member\n",
    "    public boolean inGoodStanding() {\n",
    "        return memberGoodStanding;\n",
    "    }\n",
    "}\n",
    "\n",
    "public class ClubMembers {\n",
    "    // memberList ArrayList\n",
    "    private ArrayList<MemberInfo> memberList;\n",
    "\n",
    "    public void addMembers(String[] names, int gradYear) {\n",
    "        // memberList is initialized\n",
    "        memberList = new ArrayList<MemberInfo>();\n",
    "\n",
    "        // for loop adds all specified new member objects to MemberList\n",
    "        for (int i = 0; i < names.length; i++) {\n",
    "            // Alternate method: Create a memberInfo object first then append it to memberList\n",
    "            // MemberInfo memberObject = new MemberInfo(names[i], gradYear, true);\n",
    "            memberList.add(new MemberInfo(names[i], gradYear, true));\n",
    "        }\n",
    "    }\n",
    "\n",
    "    // Running method for visualizing outputs\n",
    "    public static void main(String[] args) {\n",
    "        ClubMembers myObj = new ClubMembers();\n",
    "        String[] names = {\"Dylan\", \"Ritvik\", \"Aryan\"};\n",
    "        myObj.addMembers(names, 2023);\n",
    "        // for loop retrieves all member objects from MemberList, then retrieves memberName, memberGradYear, and memberGoodStanding from each member object and prints them\n",
    "        for (int i = 0; i < myObj.memberList.size(); i++) {\n",
    "            String memberNameRetrieve = myObj.memberList.get(i).memberName;\n",
    "            int memberGradYearRetrieve = myObj.memberList.get(i).memberGradYear;\n",
    "            boolean memberGoodStanding = myObj.memberList.get(i).memberGoodStanding;\n",
    "            System.out.println(memberNameRetrieve + \"; \" + memberGradYearRetrieve + \"; \" + memberGoodStanding);\n",
    "        }\n",
    "    }\n",
    "}\n",
    "\n",
    "ClubMembers.main(null);"
   ]
  }
 ],
 "metadata": {
  "kernelspec": {
   "display_name": "Java",
   "language": "java",
   "name": "java"
  },
  "language_info": {
   "codemirror_mode": "java",
   "file_extension": ".jshell",
   "mimetype": "text/x-java-source",
   "name": "java",
   "pygments_lexer": "java",
   "version": "11.0.16+8-post-Ubuntu-0ubuntu120.04"
  },
  "orig_nbformat": 4,
  "vscode": {
   "interpreter": {
    "hash": "916dbcbb3f70747c44a77c7bcd40155683ae19c65e1c03b4aa3499c5328201f1"
   }
  }
 },
 "nbformat": 4,
 "nbformat_minor": 2
}
