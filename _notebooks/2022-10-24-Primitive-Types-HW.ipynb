{
 "cells": [
  {
   "cell_type": "markdown",
   "metadata": {},
   "source": [
    "# Primitive Types HW Post\n",
    "> Primitive Types HW\n",
    "\n",
    "- toc: true\n",
    "- description: Primitive Types HW post for AP CSA\n",
    "- categories: [jupyter]\n",
    "- title: Primitives Types HW Post\n",
    "- author: Dylan Luo\n",
    "- show_tags: true\n",
    "- comments: true"
   ]
  },
  {
   "cell_type": "markdown",
   "metadata": {},
   "source": [
    "2006 FRQ 2a"
   ]
  },
  {
   "cell_type": "code",
   "execution_count": 41,
   "metadata": {},
   "outputs": [],
   "source": [
    "public interface Item {\n",
    "    double purchasePrice();\n",
    "}\n",
    "\n",
    "// Class TaxableItem implements the interface Item, which contains the method purchasePrice()\n",
    "public abstract class TaxableItem implements Item {\n",
    "    private double taxRate;\n",
    "\n",
    "    public abstract double getListPrice();\n",
    "\n",
    "    // Constructor for initializing the tax rate, if there is any\n",
    "    public TaxableItem(double rate){\n",
    "        taxRate = rate;\n",
    "    }\n",
    "\n",
    "    // Calculates the purchase price of an item by multiplying the tax rate by the list price, then adding that to the original list price\n",
    "    // If there is no tax rate, then the purchase price is simply equal to the list price\n",
    "    public double purchasePrice() {\n",
    "        double purchasePriceValue = getListPrice() + (taxRate * getListPrice());\n",
    "        return purchasePriceValue;\n",
    "        // Alternate way:\n",
    "        // return getListPrice() * (1.0 + taxRate);\n",
    "\n",
    "    }\n",
    "}\n",
    "\n",
    "// Since we are working with an abstract class, we would have to extend to it with another class in order to run our program\n",
    "// As of right now, the class hierarchy seems to be very complicated, so I will further research ways to output the program results"
   ]
  },
  {
   "cell_type": "markdown",
   "metadata": {},
   "source": [
    "2006 FRQ 3a"
   ]
  },
  {
   "cell_type": "code",
   "execution_count": 30,
   "metadata": {},
   "outputs": [
    {
     "name": "stdout",
     "output_type": "stream",
     "text": [
      "-4\n"
     ]
    }
   ],
   "source": [
    "public class Customer {\n",
    "    private String cName;\n",
    "    private int cID;\n",
    "\n",
    "    // Constructor to initialize customer name and id\n",
    "    public Customer(String name, int idNum) {\n",
    "        cName = name;\n",
    "        cID = idNum;\n",
    "    }\n",
    "\n",
    "    // Gets the name of the specified customer\n",
    "    public String getName() {\n",
    "        return cName;\n",
    "    }\n",
    "\n",
    "    // Gets the unique ID of the specified customer\n",
    "    public int getID() {\n",
    "        return cID;\n",
    "    }\n",
    "\n",
    "    // Compares given customer with another customer. Returns a positive integer if the customer is greater than the other customer, \n",
    "    // 0 if they are equal, and a negative integer if the customer is less than the other customer.\n",
    "    public int compareCustomer(Customer other) {\n",
    "        int nameComparison = getName().compareTo(other.getName());\n",
    "        if (nameComparison != 0) {\n",
    "            return nameComparison;\n",
    "        } else {\n",
    "            if (getID() != other.getID()) {\n",
    "                return getID() - other.getID();\n",
    "            }\n",
    "        }\n",
    "        return 0;\n",
    "    }\n",
    "\n",
    "    // Running method for visualizing outputs\n",
    "    public static void main(String[] args) {\n",
    "        Customer c1 = new Customer(\"Smith\", 1001);\n",
    "        Customer c2 = new Customer(\"Anderson\", 1002);\n",
    "        Customer c3 = new Customer(\"Smith\", 1003);\n",
    "        Customer c4 = new Customer(\"Will\", 1004);\n",
    "        System.out.println(c1.compareCustomer(c4));\n",
    "    }\n",
    "}\n",
    "\n",
    "Customer.main(null);"
   ]
  }
 ],
 "metadata": {
  "kernelspec": {
   "display_name": "Java",
   "language": "java",
   "name": "java"
  },
  "language_info": {
   "codemirror_mode": "java",
   "file_extension": ".jshell",
   "mimetype": "text/x-java-source",
   "name": "java",
   "pygments_lexer": "java",
   "version": "11.0.16+8-post-Ubuntu-0ubuntu120.04"
  },
  "orig_nbformat": 4,
  "vscode": {
   "interpreter": {
    "hash": "916dbcbb3f70747c44a77c7bcd40155683ae19c65e1c03b4aa3499c5328201f1"
   }
  }
 },
 "nbformat": 4,
 "nbformat_minor": 2
}
