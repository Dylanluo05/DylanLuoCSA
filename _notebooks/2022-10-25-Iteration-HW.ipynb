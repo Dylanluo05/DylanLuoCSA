{
 "cells": [
  {
   "cell_type": "markdown",
   "metadata": {},
   "source": [
    "# Iteration HW Post\n",
    "> Iteration HW\n",
    "\n",
    "- toc: true\n",
    "- description: Iteration HW post for AP CSA\n",
    "- categories: [jupyter]\n",
    "- title: Iteration HW Post\n",
    "- author: Dylan Luo\n",
    "- show_tags: true\n",
    "- comments: true"
   ]
  },
  {
   "cell_type": "markdown",
   "metadata": {},
   "source": [
    "Part #1: Write a program where a random number is generated. Then the user tries to guess the number. If they guess too high display something to let them know, and same for if they guess a number that is too low. The loop must iterate until the number is guessed correctly."
   ]
  },
  {
   "cell_type": "code",
   "execution_count": 2,
   "metadata": {},
   "outputs": [
    {
     "name": "stdout",
     "output_type": "stream",
     "text": [
      "Guess an integer from 1 to 100\n",
      "50\n",
      "Too high\n",
      "Guess again\n",
      "25\n",
      "Too low\n",
      "Guess again\n",
      "37\n",
      "Congratulations, you guessed correctly!\n"
     ]
    }
   ],
   "source": [
    "// Java utility imports necessary for the program\n",
    "import java.util.Scanner;\n",
    "import java.util.Random;\n",
    "\n",
    "public class Iteration {\n",
    "    // Initialize Random library object\n",
    "    Random randNumber = new Random();\n",
    "    int randomNumber = randNumber.nextInt(100 - 1) + 1;\n",
    "    // Initialize Scanner object\n",
    "    Scanner userInput = new Scanner(System.in);\n",
    "\n",
    "    // Startup method\n",
    "    public void play() {\n",
    "        System.out.println(\"Guess an integer from 1 to 100\");\n",
    "        int guess = userInput.nextInt();\n",
    "        System.out.println(guess);\n",
    "        // Calls checkGuess method that checks if the guess matches the randomly generated number from 1-100\n",
    "        checkGuess(guess);\n",
    "    }\n",
    "\n",
    "    // Simulates binary search random number guessing game. This essentially a recursive method that keeps running until the randomly generated number is guessed correctly\n",
    "    public void checkGuess(int guess) {\n",
    "        // Win condition\n",
    "        if (guess == randomNumber) {\n",
    "            System.out.println(\"Congratulations, you guessed correctly!\");\n",
    "        } \n",
    "        // Condition when guess is less than randomNumber\n",
    "        else if (guess < randomNumber) {\n",
    "            System.out.println(\"Too low\");\n",
    "            System.out.println(\"Guess again\");\n",
    "            int guess2 = userInput.nextInt();\n",
    "            System.out.println(guess2);\n",
    "            checkGuess(guess2);\n",
    "        } \n",
    "        // Condition when guess is greater than randomNumber\n",
    "        else if (guess > randomNumber) {\n",
    "            System.out.println(\"Too high\");\n",
    "            System.out.println(\"Guess again\");\n",
    "            int guess2 = userInput.nextInt();\n",
    "            System.out.println(guess2);\n",
    "            checkGuess(guess2);\n",
    "        }\n",
    "    }\n",
    "}\n",
    "\n",
    "// Running method for visualizing outputs\n",
    "public class runProgram {\n",
    "    public static void main(String[] args) {\n",
    "        Iteration myObj = new Iteration();\n",
    "        myObj.play();\n",
    "    }\n",
    "}\n",
    "\n",
    "runProgram.main(null);"
   ]
  },
  {
   "cell_type": "markdown",
   "metadata": {},
   "source": [
    "#### Part #2: ####\n",
    "![image](https://user-images.githubusercontent.com/9831592/204067290-799c1620-0c25-443a-8ae9-1fcdc1a7c493.png)"
   ]
  }
 ],
 "metadata": {
  "kernelspec": {
   "display_name": "Java",
   "language": "java",
   "name": "java"
  },
  "language_info": {
   "codemirror_mode": "java",
   "file_extension": ".jshell",
   "mimetype": "text/x-java-source",
   "name": "java",
   "pygments_lexer": "java",
   "version": "11.0.16+8-post-Ubuntu-0ubuntu120.04"
  },
  "orig_nbformat": 4,
  "vscode": {
   "interpreter": {
    "hash": "916dbcbb3f70747c44a77c7bcd40155683ae19c65e1c03b4aa3499c5328201f1"
   }
  }
 },
 "nbformat": 4,
 "nbformat_minor": 2
}
