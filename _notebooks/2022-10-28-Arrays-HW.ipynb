{
 "cells": [
  {
   "cell_type": "markdown",
   "metadata": {},
   "source": [
    "# Arrays HW Post\n",
    "> Arrays HW\n",
    "\n",
    "- toc: true\n",
    "- description: Arrays HW post for AP CSA\n",
    "- categories: [jupyter]\n",
    "- title: Arrays HW Post\n",
    "- author: Dylan Luo\n",
    "- show_tags: true\n",
    "- comments: true"
   ]
  },
  {
   "cell_type": "markdown",
   "metadata": {},
   "source": [
    "HW:\n",
    "* Swap the first and last element in the array\n",
    "* Replace all even elements with 0"
   ]
  },
  {
   "cell_type": "code",
   "execution_count": 17,
   "metadata": {
    "vscode": {
     "languageId": "java"
    }
   },
   "outputs": [
    {
     "name": "stdout",
     "output_type": "stream",
     "text": [
      "7 8 6 5 3 4 1 \n",
      "1 0 3 5 0 0 7 "
     ]
    }
   ],
   "source": [
    "import java.util.Arrays;\n",
    "\n",
    "public class ArrayMethods {\n",
    "    // Initialized array with private modifiers\n",
    "    private int[] values = {1, 4, 3, 5, 6, 8, 7};\n",
    "\n",
    "    // Swap method for reversing the entire array\n",
    "    public int[] swap() {\n",
    "        int[] valuesSwap = values.clone();\n",
    "        for (int i = 0; i < valuesSwap.length/2; i++) {\n",
    "            // Store the ith value of the array in a temp variable\n",
    "            int temp = valuesSwap[i];\n",
    "            int lastIndex = valuesSwap.length - (i + 1);\n",
    "            valuesSwap[i] = valuesSwap[lastIndex];\n",
    "            valuesSwap[lastIndex] = temp;\n",
    "        }\n",
    "        return valuesSwap;\n",
    "    }\n",
    "\n",
    "    // Replace method for replacing all even numbers in the array with 0\n",
    "    public int[] replace() {\n",
    "        int[] valuesReplace = values.clone();\n",
    "        for (int a = 0; a < valuesReplace.length; a++) {\n",
    "            // If % produces a remainder of 0, the element is even\n",
    "            if (valuesReplace[a] % 2 == 0) {\n",
    "                valuesReplace[a] = 0;\n",
    "            }\n",
    "        }\n",
    "        return valuesReplace;\n",
    "    }\n",
    "\n",
    "    // Running method for visualizing outputs\n",
    "    public static void main(String[] args) {\n",
    "        ArrayMethods myObj = new ArrayMethods();\n",
    "        for (int num : myObj.swap()) {\n",
    "            System.out.print(num + \" \");\n",
    "        }\n",
    "        System.out.println(\"\");\n",
    "        for (int num : myObj.replace()) {\n",
    "            System.out.print(num + \" \");\n",
    "        }\n",
    "    }\n",
    "}\n",
    "\n",
    "ArrayMethods.main(null);"
   ]
  }
 ],
 "metadata": {
  "kernelspec": {
   "display_name": "Java",
   "language": "java",
   "name": "java"
  },
  "language_info": {
   "codemirror_mode": "java",
   "file_extension": ".jshell",
   "mimetype": "text/x-java-source",
   "name": "Java",
   "pygments_lexer": "java",
   "version": "11.0.16+8-post-Ubuntu-0ubuntu120.04"
  },
  "orig_nbformat": 4,
  "vscode": {
   "interpreter": {
    "hash": "916dbcbb3f70747c44a77c7bcd40155683ae19c65e1c03b4aa3499c5328201f1"
   }
  }
 },
 "nbformat": 4,
 "nbformat_minor": 2
}
