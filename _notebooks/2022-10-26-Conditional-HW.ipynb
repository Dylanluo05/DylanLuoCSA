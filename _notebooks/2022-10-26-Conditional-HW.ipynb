{
 "cells": [
  {
   "cell_type": "markdown",
   "metadata": {},
   "source": [
    "# Boolean Expressions and If Else Statements HW Post\n",
    "> Boolean Expressions and If Else Statements HW\n",
    "\n",
    "- toc: true\n",
    "- description: Boolean expressions and if else statements post for AP CSA\n",
    "- categories: [jupyter]\n",
    "- title: Boolean Expressions and If Else Statements Post\n",
    "- author: Dylan Luo\n",
    "- show_tags: true\n",
    "- comments: true"
   ]
  },
  {
   "cell_type": "markdown",
   "metadata": {},
   "source": [
    "2009 FRQ 3b"
   ]
  },
  {
   "cell_type": "code",
   "execution_count": 14,
   "metadata": {
    "vscode": {
     "languageId": "java"
    }
   },
   "outputs": [
    {
     "name": "stdout",
     "output_type": "stream",
     "text": [
      "3710\n",
      "23\n"
     ]
    }
   ],
   "source": [
    "public class BatteryCharger {\n",
    "    // Initialized array containing the costs at each hour (0 - 23)\n",
    "    private int[] rateTable = {50, 60, 160, 60, 80, 100, 100, 120, 150, 150, 150, 200, 40, 240, 220, 220, 200, 200, 180, 180, 140, 100, 80, 60};\n",
    "\n",
    "    // Method for determining the total charge cost based on the given startHour and chargeTime\n",
    "    private int getChargingCost(int startHour, int chargeTime) {\n",
    "        int totalCost = 0;\n",
    "\n",
    "        for (int i = startHour; i < startHour + chargeTime; i++) {\n",
    "            if (i >= 24) {\n",
    "                int temp = i % 24;\n",
    "                totalCost += rateTable[temp];\n",
    "            } else {\n",
    "                totalCost += rateTable[i];\n",
    "            }\n",
    "        }\n",
    "        return totalCost;\n",
    "    } \n",
    "\n",
    "    // Method for determining the most cost efficient startHour based on the given chargeTime\n",
    "    public int getChargeStartTime(int chargeTime) {\n",
    "        int optimalStartHour = 23;\n",
    "        for (int i = 22; i >= 0; i--) {\n",
    "            if (getChargingCost(i, chargeTime) < getChargingCost(optimalStartHour, chargeTime)) {\n",
    "                optimalStartHour = i;\n",
    "            }\n",
    "        }\n",
    "        return optimalStartHour;\n",
    "    }\n",
    "\n",
    "    // Running method for visualizing outputs\n",
    "    public static void main(String[] args) {\n",
    "        BatteryCharger myObj = new BatteryCharger();\n",
    "        System.out.println(myObj.getChargingCost(22, 30));\n",
    "        System.out.println(myObj.getChargeStartTime(30));\n",
    "    }\n",
    "}\n",
    "\n",
    "BatteryCharger.main(null);"
   ]
  },
  {
   "cell_type": "markdown",
   "metadata": {},
   "source": [
    "2017 FRQ 1b"
   ]
  },
  {
   "cell_type": "code",
   "execution_count": 24,
   "metadata": {
    "vscode": {
     "languageId": "java"
    }
   },
   "outputs": [
    {
     "name": "stdout",
     "output_type": "stream",
     "text": [
      "true\n",
      "1\n",
      "2\n",
      "3\n",
      "4\n",
      "5\n",
      "7\n",
      "8\n"
     ]
    }
   ],
   "source": [
    "public class Digits {\n",
    "    \n",
    "    private ArrayList<Integer> digitList;\n",
    "\n",
    "    // Constructor that adds all digits of an integer to an ArrayList\n",
    "    public Digits(int num) {\n",
    "        Integer number = num;\n",
    "        digitList = new ArrayList<Integer>();\n",
    "        String numberNew = number.toString();\n",
    "        for (int i = 0; i < numberNew.length(); i++) {\n",
    "            int numberNewDigit = Character.getNumericValue(numberNew.charAt(i));\n",
    "            digitList.add(numberNewDigit);\n",
    "        }\n",
    "    }\n",
    "\n",
    "    // Method for checking if all the numbers in the digit list are strictly increasing\n",
    "    public boolean isStrictlyIncreasing() {\n",
    "        // Returns true if there is only 1 digit\n",
    "        if (digitList.size() < 2) {\n",
    "            return true;\n",
    "        }\n",
    "        for (int a = 0; a < digitList.size() - 1; a++) {\n",
    "            // Returns false if at least one of the digits does not follow the strictly increasing rule\n",
    "            if (digitList.get(a) >= digitList.get(a + 1)) {\n",
    "                return false;\n",
    "            }\n",
    "        }\n",
    "        return true;\n",
    "    }\n",
    "\n",
    "    // Running method for visualizing outputs\n",
    "    public static void main(String[] args) {\n",
    "        Digits myObj = new Digits(1234578);\n",
    "        System.out.println(myObj.isStrictlyIncreasing());\n",
    "    }\n",
    "}\n",
    "\n",
    "Digits.main(null);"
   ]
  },
  {
   "cell_type": "markdown",
   "metadata": {},
   "source": [
    "2019 FRQ 3b"
   ]
  },
  {
   "cell_type": "code",
   "execution_count": 22,
   "metadata": {
    "vscode": {
     "languageId": "java"
    }
   },
   "outputs": [
    {
     "name": "stdout",
     "output_type": "stream",
     "text": [
      "[<sup>, <sup>, </sup>, </sup>]\n",
      "true\n"
     ]
    }
   ],
   "source": [
    "public class Delimiters {\n",
    "    private String openDel;\n",
    "    private String closeDel;\n",
    "    ArrayList<String> delimitersList;\n",
    "\n",
    "    // Constructor that initializes openDel, closeDel, and delimitersList\n",
    "    public Delimiters(String open, String close) {\n",
    "        openDel = open;\n",
    "        closeDel = close;\n",
    "        delimitersList = new ArrayList<String>();\n",
    "    }\n",
    "\n",
    "    // Method for collecting all delimiters from a text\n",
    "    public ArrayList<String> getDelimitersList (String[] tokens) {\n",
    "        for (String token : tokens) {\n",
    "            if (token == openDel || token == closeDel) {\n",
    "                delimitersList.add(token);\n",
    "            }\n",
    "        }\n",
    "        return delimitersList;\n",
    "    }\n",
    "\n",
    "    // Method to check whether or not the open delimiters and close delimiters are balanced.\n",
    "    public boolean isBalanced(ArrayList<String> delimiters) {\n",
    "        // Counters for the number of open delimiters and close delimiters\n",
    "        int openCount = 0;\n",
    "        int closeCount = 0;\n",
    "        for (String delimiter : delimiters) {\n",
    "            if (delimiter == openDel) {\n",
    "                openCount++;\n",
    "            } else if (delimiter == closeDel) {\n",
    "                closeCount++;\n",
    "            }\n",
    "\n",
    "            // First condition is broken\n",
    "            if (openCount < closeCount) {\n",
    "                return false;\n",
    "            }\n",
    "        }\n",
    "        // First and second condition are both met\n",
    "        if (openCount == closeCount) {\n",
    "            return true;\n",
    "        } \n",
    "        \n",
    "        // Second condition is broken\n",
    "        else {\n",
    "            return false;\n",
    "        }\n",
    "    }\n",
    "\n",
    "    // Running method for visualizing outputs\n",
    "    public static void main(String[] args) {\n",
    "        Delimiters myObj = new Delimiters(\"<sup>\", \"</sup>\");\n",
    "        String[] tokens = {\"<sup>\", \"yy\", \"<sup>\", \"zz\", \"</sup>\", \"</sup>\"};\n",
    "        ArrayList<String> delimiters = myObj.getDelimitersList(tokens);\n",
    "        System.out.println(delimiters);\n",
    "        System.out.println(myObj.isBalanced(delimiters));\n",
    "    }\n",
    "}\n",
    "\n",
    "Delimiters.main(null);"
   ]
  }
 ],
 "metadata": {
  "kernelspec": {
   "display_name": "Java",
   "language": "java",
   "name": "java"
  },
  "language_info": {
   "codemirror_mode": "java",
   "file_extension": ".jshell",
   "mimetype": "text/x-java-source",
   "name": "Java",
   "pygments_lexer": "java",
   "version": "11.0.16+8-post-Ubuntu-0ubuntu120.04"
  },
  "orig_nbformat": 4,
  "vscode": {
   "interpreter": {
    "hash": "916dbcbb3f70747c44a77c7bcd40155683ae19c65e1c03b4aa3499c5328201f1"
   }
  }
 },
 "nbformat": 4,
 "nbformat_minor": 2
}
